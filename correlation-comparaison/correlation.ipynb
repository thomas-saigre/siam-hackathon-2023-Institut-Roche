{
 "cells": [
  {
   "attachments": {},
   "cell_type": "markdown",
   "metadata": {},
   "source": [
    "# Correlations\n",
    "\n",
    "We compute the correlation matrices for the varuois dataset that we. Then for the different methods, we compute the difference of the correlations according to the initial dataset $R$."
   ]
  },
  {
   "cell_type": "code",
   "execution_count": 2,
   "metadata": {},
   "outputs": [],
   "source": [
    "import pandas as pd\n",
    "import numpy as np\n",
    "import matplotlib.pyplot as plt"
   ]
  },
  {
   "cell_type": "code",
   "execution_count": 3,
   "metadata": {},
   "outputs": [],
   "source": [
    "PATIENTS = [50, 100, 200, 500, 1000, 1977]\n",
    "METHODS = ['Baynet', 'CTGAN', 'MIIC', 'PRIVBayes', 'Synthpop']\n",
    "\n",
    "n_patients = len(PATIENTS)\n",
    "n_methods = len(METHODS)"
   ]
  },
  {
   "attachments": {},
   "cell_type": "markdown",
   "metadata": {},
   "source": [
    "If $R$ denotes the initial dataset, and $S$ the synthetised one, we compute the correlation matrices $\\rho_R$ and $\\rho_S$ and the difference $\\rho_S - \\rho_R$.\n",
    "For each method, we compare the different dataset that are given, for various size of population."
   ]
  },
  {
   "attachments": {},
   "cell_type": "markdown",
   "metadata": {},
   "source": [
    "## Compute everything"
   ]
  },
  {
   "cell_type": "code",
   "execution_count": 39,
   "metadata": {},
   "outputs": [],
   "source": [
    "R_ref = {}\n",
    "\n",
    "for p in PATIENTS:\n",
    "    df_ref = pd.read_csv(f'data/MIXED{p}patients_subsamples/1/brca_mRNA_{p}patients.csv')\n",
    "    R_ref[p] = df_ref.corr()\n",
    "\n",
    "\n",
    "# Baynet\n",
    "R_synth_Baynet = {}\n",
    "SEEDS_BAYNET = list(range(1, 13))\n",
    "for p in PATIENTS:\n",
    "    for seed in SEEDS_BAYNET:\n",
    "            df = pd.read_csv(f'data/MIXED{p}patients_subsamples/1/Baynet/brca_mRNA_patients_BayNet_n20_deg2_eps0_seed_{seed}.csv')\n",
    "            R_synth_Baynet[p, seed] = df.corr()\n",
    "\n",
    "# CTGAN\n",
    "R_synth_CTGAN = {}\n",
    "for p in PATIENTS:\n",
    "    df = pd.read_csv(f'data/MIXED{p}patients_subsamples/1/CTGAN/brca_mRNA_patients_embedding_dim128_gen_dim256_dis_dim256_l2scale1e-06_batch_size500_epochs500.csv')\n",
    "    R_synth_CTGAN[p] = df.corr()\n",
    "\n",
    "# MIIC\n",
    "R_synth_MIIC = {}\n",
    "INDEX_MIIC = list(range(1, 12))\n",
    "for p in PATIENTS:\n",
    "    for index in INDEX_MIIC:\n",
    "        df = pd.read_csv(f'data/MIXED{p}patients_subsamples/1/MIIC/syntheticData_mixedNetwork_test_fast_root_index_{index}.csv')\n",
    "        R_synth_MIIC[p, index] = df.corr()\n",
    "\n",
    "# PrivBayes\n",
    "R_synth_PRIVBayes = {}\n",
    "PRIV_BAYES_SEEDS = list(range(1, 13))\n",
    "for p in PATIENTS:\n",
    "    for seed in range(1, 13):\n",
    "        if not (p == 100 and seed == 11):\n",
    "            df = pd.read_csv(f'data/MIXED{p}patients_subsamples/1/PrivBayes/brca_mRNA_patients_PrivBayes_n20_deg2_eps1_seed_{seed}.csv')\n",
    "            R_synth_PRIVBayes[p, seed] = df.corr()\n",
    "\n",
    "# Synthpop\n",
    "R_synth_Synthpop = {}\n",
    "SYNTHPOP_ITERATIONS = list(range(1, 13))\n",
    "for p in PATIENTS:\n",
    "    for iteration in range(1, 13):\n",
    "        df = pd.read_csv(f'data/MIXED{p}patients_subsamples/1/Synthpop/brca_mRNA_{p}patients_iteration_{iteration}_.csv')\n",
    "        R_synth_Synthpop[p, iteration] = df.corr()"
   ]
  },
  {
   "cell_type": "code",
   "execution_count": 56,
   "metadata": {},
   "outputs": [
    {
     "data": {
      "text/html": [
       "<div>\n",
       "<style scoped>\n",
       "    .dataframe tbody tr th:only-of-type {\n",
       "        vertical-align: middle;\n",
       "    }\n",
       "\n",
       "    .dataframe tbody tr th {\n",
       "        vertical-align: top;\n",
       "    }\n",
       "\n",
       "    .dataframe thead th {\n",
       "        text-align: right;\n",
       "    }\n",
       "</style>\n",
       "<table border=\"1\" class=\"dataframe\">\n",
       "  <thead>\n",
       "    <tr style=\"text-align: right;\">\n",
       "      <th></th>\n",
       "      <th>CANCER_TYPE_DETAILED</th>\n",
       "      <th>ER_STATUS</th>\n",
       "      <th>HER2_STATUS</th>\n",
       "      <th>GRADE</th>\n",
       "      <th>PR_STATUS</th>\n",
       "      <th>TUMOR_SIZE</th>\n",
       "      <th>TUMOR_STAGE</th>\n",
       "      <th>TMB_NONSYNONYMOUS</th>\n",
       "      <th>LYMPH_NODES_EXAMINED_POSITIVE</th>\n",
       "      <th>NPI</th>\n",
       "      <th>...</th>\n",
       "      <th>OS_MONTHS</th>\n",
       "      <th>CLAUDIN_SUBTYPE</th>\n",
       "      <th>THREEGENE</th>\n",
       "      <th>VITAL_STATUS</th>\n",
       "      <th>LATERALITY</th>\n",
       "      <th>RADIO_THERAPY</th>\n",
       "      <th>HISTOLOGICAL_SUBTYPE</th>\n",
       "      <th>BREAST_SURGERY</th>\n",
       "      <th>RFS_STATUS</th>\n",
       "      <th>RFS_MONTHS</th>\n",
       "    </tr>\n",
       "  </thead>\n",
       "  <tbody>\n",
       "    <tr>\n",
       "      <th>0</th>\n",
       "      <td>Breast Invasive Ductal Carcinoma</td>\n",
       "      <td>Positive</td>\n",
       "      <td>Negative</td>\n",
       "      <td>2.0</td>\n",
       "      <td>Positive</td>\n",
       "      <td>20.0</td>\n",
       "      <td>1.0</td>\n",
       "      <td>7.845106</td>\n",
       "      <td>0.0</td>\n",
       "      <td>3.040</td>\n",
       "      <td>...</td>\n",
       "      <td>106.566667</td>\n",
       "      <td>Her2</td>\n",
       "      <td>ER+/HER2- High Prolif</td>\n",
       "      <td>Died of Disease</td>\n",
       "      <td>Right</td>\n",
       "      <td>YES</td>\n",
       "      <td>Ductal/NST</td>\n",
       "      <td>MASTECTOMY</td>\n",
       "      <td>1:Recurred</td>\n",
       "      <td>26.45</td>\n",
       "    </tr>\n",
       "    <tr>\n",
       "      <th>1</th>\n",
       "      <td>Breast Mixed Ductal and Lobular Carcinoma</td>\n",
       "      <td>Positive</td>\n",
       "      <td>Negative</td>\n",
       "      <td>2.0</td>\n",
       "      <td>Positive</td>\n",
       "      <td>17.0</td>\n",
       "      <td>1.0</td>\n",
       "      <td>10.460142</td>\n",
       "      <td>0.0</td>\n",
       "      <td>3.034</td>\n",
       "      <td>...</td>\n",
       "      <td>257.633333</td>\n",
       "      <td>LumA</td>\n",
       "      <td>ER+/HER2- Low Prolif</td>\n",
       "      <td>Living</td>\n",
       "      <td>Left</td>\n",
       "      <td>NO</td>\n",
       "      <td>Mixed</td>\n",
       "      <td>MASTECTOMY</td>\n",
       "      <td>0:Not Recurred</td>\n",
       "      <td>254.24</td>\n",
       "    </tr>\n",
       "    <tr>\n",
       "      <th>2</th>\n",
       "      <td>Breast Invasive Ductal Carcinoma</td>\n",
       "      <td>Positive</td>\n",
       "      <td>Positive</td>\n",
       "      <td>3.0</td>\n",
       "      <td>Negative</td>\n",
       "      <td>35.0</td>\n",
       "      <td>NaN</td>\n",
       "      <td>5.230071</td>\n",
       "      <td>14.0</td>\n",
       "      <td>6.070</td>\n",
       "      <td>...</td>\n",
       "      <td>15.866667</td>\n",
       "      <td>Basal</td>\n",
       "      <td>HER2+</td>\n",
       "      <td>Died of Disease</td>\n",
       "      <td>Left</td>\n",
       "      <td>YES</td>\n",
       "      <td>Ductal/NST</td>\n",
       "      <td>MASTECTOMY</td>\n",
       "      <td>1:Recurred</td>\n",
       "      <td>12.53</td>\n",
       "    </tr>\n",
       "    <tr>\n",
       "      <th>3</th>\n",
       "      <td>Breast Invasive Ductal Carcinoma</td>\n",
       "      <td>Negative</td>\n",
       "      <td>Negative</td>\n",
       "      <td>3.0</td>\n",
       "      <td>Negative</td>\n",
       "      <td>20.0</td>\n",
       "      <td>1.0</td>\n",
       "      <td>13.075177</td>\n",
       "      <td>0.0</td>\n",
       "      <td>4.040</td>\n",
       "      <td>...</td>\n",
       "      <td>151.066667</td>\n",
       "      <td>Basal</td>\n",
       "      <td>ER-/HER2-</td>\n",
       "      <td>Living</td>\n",
       "      <td>Right</td>\n",
       "      <td>YES</td>\n",
       "      <td>Ductal/NST</td>\n",
       "      <td>BREAST CONSERVING</td>\n",
       "      <td>0:Not Recurred</td>\n",
       "      <td>149.08</td>\n",
       "    </tr>\n",
       "    <tr>\n",
       "      <th>4</th>\n",
       "      <td>Breast Invasive Lobular Carcinoma</td>\n",
       "      <td>Positive</td>\n",
       "      <td>Negative</td>\n",
       "      <td>2.0</td>\n",
       "      <td>Positive</td>\n",
       "      <td>25.0</td>\n",
       "      <td>NaN</td>\n",
       "      <td>3.922553</td>\n",
       "      <td>0.0</td>\n",
       "      <td>3.050</td>\n",
       "      <td>...</td>\n",
       "      <td>80.433333</td>\n",
       "      <td>LumA</td>\n",
       "      <td>ER+/HER2- Low Prolif</td>\n",
       "      <td>Died of Other Causes</td>\n",
       "      <td>NaN</td>\n",
       "      <td>NO</td>\n",
       "      <td>Lobular</td>\n",
       "      <td>MASTECTOMY</td>\n",
       "      <td>0:Not Recurred</td>\n",
       "      <td>79.38</td>\n",
       "    </tr>\n",
       "    <tr>\n",
       "      <th>...</th>\n",
       "      <td>...</td>\n",
       "      <td>...</td>\n",
       "      <td>...</td>\n",
       "      <td>...</td>\n",
       "      <td>...</td>\n",
       "      <td>...</td>\n",
       "      <td>...</td>\n",
       "      <td>...</td>\n",
       "      <td>...</td>\n",
       "      <td>...</td>\n",
       "      <td>...</td>\n",
       "      <td>...</td>\n",
       "      <td>...</td>\n",
       "      <td>...</td>\n",
       "      <td>...</td>\n",
       "      <td>...</td>\n",
       "      <td>...</td>\n",
       "      <td>...</td>\n",
       "      <td>...</td>\n",
       "      <td>...</td>\n",
       "      <td>...</td>\n",
       "    </tr>\n",
       "    <tr>\n",
       "      <th>1972</th>\n",
       "      <td>Breast Mixed Ductal and Lobular Carcinoma</td>\n",
       "      <td>Positive</td>\n",
       "      <td>Negative</td>\n",
       "      <td>3.0</td>\n",
       "      <td>Positive</td>\n",
       "      <td>35.0</td>\n",
       "      <td>NaN</td>\n",
       "      <td>13.075177</td>\n",
       "      <td>0.0</td>\n",
       "      <td>4.070</td>\n",
       "      <td>...</td>\n",
       "      <td>103.100000</td>\n",
       "      <td>LumA</td>\n",
       "      <td>ER+/HER2- Low Prolif</td>\n",
       "      <td>Died of Disease</td>\n",
       "      <td>Left</td>\n",
       "      <td>NO</td>\n",
       "      <td>Mixed</td>\n",
       "      <td>MASTECTOMY</td>\n",
       "      <td>1:Recurred</td>\n",
       "      <td>101.74</td>\n",
       "    </tr>\n",
       "    <tr>\n",
       "      <th>1973</th>\n",
       "      <td>Breast Invasive Ductal Carcinoma</td>\n",
       "      <td>Positive</td>\n",
       "      <td>Negative</td>\n",
       "      <td>2.0</td>\n",
       "      <td>Positive</td>\n",
       "      <td>18.0</td>\n",
       "      <td>2.0</td>\n",
       "      <td>7.845106</td>\n",
       "      <td>7.0</td>\n",
       "      <td>5.036</td>\n",
       "      <td>...</td>\n",
       "      <td>71.766667</td>\n",
       "      <td>LumB</td>\n",
       "      <td>ER+/HER2- High Prolif</td>\n",
       "      <td>Died of Disease</td>\n",
       "      <td>Right</td>\n",
       "      <td>YES</td>\n",
       "      <td>Ductal/NST</td>\n",
       "      <td>BREAST CONSERVING</td>\n",
       "      <td>1:Recurred</td>\n",
       "      <td>66.81</td>\n",
       "    </tr>\n",
       "    <tr>\n",
       "      <th>1974</th>\n",
       "      <td>Breast Invasive Ductal Carcinoma</td>\n",
       "      <td>Positive</td>\n",
       "      <td>Negative</td>\n",
       "      <td>1.0</td>\n",
       "      <td>Positive</td>\n",
       "      <td>70.0</td>\n",
       "      <td>3.0</td>\n",
       "      <td>5.230071</td>\n",
       "      <td>5.0</td>\n",
       "      <td>4.140</td>\n",
       "      <td>...</td>\n",
       "      <td>85.333333</td>\n",
       "      <td>LumA</td>\n",
       "      <td>ER+/HER2- Low Prolif</td>\n",
       "      <td>Living</td>\n",
       "      <td>Left</td>\n",
       "      <td>YES</td>\n",
       "      <td>Ductal/NST</td>\n",
       "      <td>MASTECTOMY</td>\n",
       "      <td>0:Not Recurred</td>\n",
       "      <td>84.21</td>\n",
       "    </tr>\n",
       "    <tr>\n",
       "      <th>1975</th>\n",
       "      <td>Breast Invasive Ductal Carcinoma</td>\n",
       "      <td>Positive</td>\n",
       "      <td>Negative</td>\n",
       "      <td>2.0</td>\n",
       "      <td>Positive</td>\n",
       "      <td>20.0</td>\n",
       "      <td>1.0</td>\n",
       "      <td>7.845106</td>\n",
       "      <td>0.0</td>\n",
       "      <td>3.040</td>\n",
       "      <td>...</td>\n",
       "      <td>237.500000</td>\n",
       "      <td>LumB</td>\n",
       "      <td>ER+/HER2- High Prolif</td>\n",
       "      <td>Living</td>\n",
       "      <td>Right</td>\n",
       "      <td>YES</td>\n",
       "      <td>Ductal/NST</td>\n",
       "      <td>BREAST CONSERVING</td>\n",
       "      <td>1:Recurred</td>\n",
       "      <td>26.81</td>\n",
       "    </tr>\n",
       "    <tr>\n",
       "      <th>1976</th>\n",
       "      <td>Breast Invasive Ductal Carcinoma</td>\n",
       "      <td>Positive</td>\n",
       "      <td>Negative</td>\n",
       "      <td>2.0</td>\n",
       "      <td>Positive</td>\n",
       "      <td>20.0</td>\n",
       "      <td>1.0</td>\n",
       "      <td>5.230071</td>\n",
       "      <td>0.0</td>\n",
       "      <td>3.040</td>\n",
       "      <td>...</td>\n",
       "      <td>146.766667</td>\n",
       "      <td>LumA</td>\n",
       "      <td>ER+/HER2- Low Prolif</td>\n",
       "      <td>Living</td>\n",
       "      <td>Left</td>\n",
       "      <td>YES</td>\n",
       "      <td>Ductal/NST</td>\n",
       "      <td>BREAST CONSERVING</td>\n",
       "      <td>0:Not Recurred</td>\n",
       "      <td>144.84</td>\n",
       "    </tr>\n",
       "  </tbody>\n",
       "</table>\n",
       "<p>1977 rows × 29 columns</p>\n",
       "</div>"
      ],
      "text/plain": [
       "                           CANCER_TYPE_DETAILED ER_STATUS HER2_STATUS  GRADE  \\\n",
       "0              Breast Invasive Ductal Carcinoma  Positive    Negative    2.0   \n",
       "1     Breast Mixed Ductal and Lobular Carcinoma  Positive    Negative    2.0   \n",
       "2              Breast Invasive Ductal Carcinoma  Positive    Positive    3.0   \n",
       "3              Breast Invasive Ductal Carcinoma  Negative    Negative    3.0   \n",
       "4             Breast Invasive Lobular Carcinoma  Positive    Negative    2.0   \n",
       "...                                         ...       ...         ...    ...   \n",
       "1972  Breast Mixed Ductal and Lobular Carcinoma  Positive    Negative    3.0   \n",
       "1973           Breast Invasive Ductal Carcinoma  Positive    Negative    2.0   \n",
       "1974           Breast Invasive Ductal Carcinoma  Positive    Negative    1.0   \n",
       "1975           Breast Invasive Ductal Carcinoma  Positive    Negative    2.0   \n",
       "1976           Breast Invasive Ductal Carcinoma  Positive    Negative    2.0   \n",
       "\n",
       "     PR_STATUS  TUMOR_SIZE  TUMOR_STAGE  TMB_NONSYNONYMOUS  \\\n",
       "0     Positive        20.0          1.0           7.845106   \n",
       "1     Positive        17.0          1.0          10.460142   \n",
       "2     Negative        35.0          NaN           5.230071   \n",
       "3     Negative        20.0          1.0          13.075177   \n",
       "4     Positive        25.0          NaN           3.922553   \n",
       "...        ...         ...          ...                ...   \n",
       "1972  Positive        35.0          NaN          13.075177   \n",
       "1973  Positive        18.0          2.0           7.845106   \n",
       "1974  Positive        70.0          3.0           5.230071   \n",
       "1975  Positive        20.0          1.0           7.845106   \n",
       "1976  Positive        20.0          1.0           5.230071   \n",
       "\n",
       "      LYMPH_NODES_EXAMINED_POSITIVE    NPI  ...   OS_MONTHS CLAUDIN_SUBTYPE  \\\n",
       "0                               0.0  3.040  ...  106.566667            Her2   \n",
       "1                               0.0  3.034  ...  257.633333            LumA   \n",
       "2                              14.0  6.070  ...   15.866667           Basal   \n",
       "3                               0.0  4.040  ...  151.066667           Basal   \n",
       "4                               0.0  3.050  ...   80.433333            LumA   \n",
       "...                             ...    ...  ...         ...             ...   \n",
       "1972                            0.0  4.070  ...  103.100000            LumA   \n",
       "1973                            7.0  5.036  ...   71.766667            LumB   \n",
       "1974                            5.0  4.140  ...   85.333333            LumA   \n",
       "1975                            0.0  3.040  ...  237.500000            LumB   \n",
       "1976                            0.0  3.040  ...  146.766667            LumA   \n",
       "\n",
       "                  THREEGENE          VITAL_STATUS LATERALITY RADIO_THERAPY  \\\n",
       "0     ER+/HER2- High Prolif       Died of Disease      Right           YES   \n",
       "1      ER+/HER2- Low Prolif                Living       Left            NO   \n",
       "2                     HER2+       Died of Disease       Left           YES   \n",
       "3                 ER-/HER2-                Living      Right           YES   \n",
       "4      ER+/HER2- Low Prolif  Died of Other Causes        NaN            NO   \n",
       "...                     ...                   ...        ...           ...   \n",
       "1972   ER+/HER2- Low Prolif       Died of Disease       Left            NO   \n",
       "1973  ER+/HER2- High Prolif       Died of Disease      Right           YES   \n",
       "1974   ER+/HER2- Low Prolif                Living       Left           YES   \n",
       "1975  ER+/HER2- High Prolif                Living      Right           YES   \n",
       "1976   ER+/HER2- Low Prolif                Living       Left           YES   \n",
       "\n",
       "     HISTOLOGICAL_SUBTYPE     BREAST_SURGERY      RFS_STATUS  RFS_MONTHS  \n",
       "0              Ductal/NST         MASTECTOMY      1:Recurred       26.45  \n",
       "1                   Mixed         MASTECTOMY  0:Not Recurred      254.24  \n",
       "2              Ductal/NST         MASTECTOMY      1:Recurred       12.53  \n",
       "3              Ductal/NST  BREAST CONSERVING  0:Not Recurred      149.08  \n",
       "4                 Lobular         MASTECTOMY  0:Not Recurred       79.38  \n",
       "...                   ...                ...             ...         ...  \n",
       "1972                Mixed         MASTECTOMY      1:Recurred      101.74  \n",
       "1973           Ductal/NST  BREAST CONSERVING      1:Recurred       66.81  \n",
       "1974           Ductal/NST         MASTECTOMY  0:Not Recurred       84.21  \n",
       "1975           Ductal/NST  BREAST CONSERVING      1:Recurred       26.81  \n",
       "1976           Ductal/NST  BREAST CONSERVING  0:Not Recurred      144.84  \n",
       "\n",
       "[1977 rows x 29 columns]"
      ]
     },
     "execution_count": 56,
     "metadata": {},
     "output_type": "execute_result"
    }
   ],
   "source": [
    "df_ref"
   ]
  },
  {
   "attachments": {},
   "cell_type": "markdown",
   "metadata": {},
   "source": [
    "Example of corelation matrix:"
   ]
  },
  {
   "cell_type": "code",
   "execution_count": 52,
   "metadata": {},
   "outputs": [
    {
     "data": {
      "image/png": "[encoded data removed]",
      "text/plain": [
       "<Figure size 432x288 with 2 Axes>"
      ]
     },
     "metadata": {
      "needs_background": "light"
     },
     "output_type": "display_data"
    }
   ],
   "source": [
    "R_ref[1977].keys()\n",
    "\n",
    "plt.imshow(R_ref[1977])\n",
    "plt.colorbar()\n",
    "plt.xticks(range(len(R_ref[1977].keys())), R_ref[1977].keys(), rotation=90)\n",
    "plt.yticks(range(len(R_ref[1977].keys())), R_ref[1977].keys())\n",
    "plt.show()"
   ]
  },
  {
   "attachments": {},
   "cell_type": "markdown",
   "metadata": {},
   "source": [
    "## Display results\n",
    "\n",
    "### Baynet"
   ]
  },
  {
   "cell_type": "code",
   "execution_count": 18,
   "metadata": {},
   "outputs": [
    {
     "data": {
      "image/png": "[encoded data removed]",
      "text/plain": [
       "<Figure size 1080x1080 with 2 Axes>"
      ]
     },
     "metadata": {
      "needs_background": "light"
     },
     "output_type": "display_data"
    }
   ],
   "source": [
    "NORM = np.zeros((len(SEEDS_BAYNET), n_patients))\n",
    "\n",
    "for i, seed in enumerate(SEEDS_BAYNET):\n",
    "    for k, p in enumerate(PATIENTS):\n",
    "        NORM[i, k] = np.linalg.norm(R_ref[p] - R_synth_Baynet[p, seed])\n",
    "\n",
    "plt.figure(figsize=(15, 15))\n",
    "plt.imshow(NORM)\n",
    "plt.colorbar()\n",
    "plt.xlabel(\"Number of patients\")\n",
    "plt.xticks(range(6), PATIENTS)\n",
    "plt.ylabel(\"Seed\")\n",
    "plt.yticks(range(12), SEEDS_BAYNET)\n",
    "plt.show()"
   ]
  },
  {
   "attachments": {},
   "cell_type": "markdown",
   "metadata": {},
   "source": [
    "### CTGAN"
   ]
  },
  {
   "cell_type": "code",
   "execution_count": 33,
   "metadata": {},
   "outputs": [
    {
     "data": {
      "image/png": "[encoded data removed]",
      "text/plain": [
       "<Figure size 1080x1080 with 2 Axes>"
      ]
     },
     "metadata": {
      "needs_background": "light"
     },
     "output_type": "display_data"
    }
   ],
   "source": [
    "NORM = np.zeros((1, n_patients))\n",
    "\n",
    "for k, p in enumerate(PATIENTS):\n",
    "    NORM[0, k] = np.linalg.norm(R_ref[p] - R_synth_CTGAN[p])\n",
    "\n",
    "plt.figure(figsize=(15, 15))\n",
    "plt.imshow(NORM)\n",
    "plt.colorbar(location='bottom')\n",
    "plt.xlabel(\"Number of patients\")\n",
    "plt.xticks(range(6), PATIENTS)\n",
    "plt.show()"
   ]
  },
  {
   "attachments": {},
   "cell_type": "markdown",
   "metadata": {},
   "source": [
    "### MICC"
   ]
  },
  {
   "cell_type": "code",
   "execution_count": 29,
   "metadata": {},
   "outputs": [
    {
     "data": {
      "image/png": "[encoded data removed]",
      "text/plain": [
       "<Figure size 1080x1080 with 2 Axes>"
      ]
     },
     "metadata": {
      "needs_background": "light"
     },
     "output_type": "display_data"
    }
   ],
   "source": [
    "NORM = np.zeros((len(INDEX_MIIC), n_patients))\n",
    "\n",
    "for i, index in enumerate(INDEX_MIIC):\n",
    "    for k, p in enumerate(PATIENTS):\n",
    "        NORM[i, k] = np.linalg.norm(R_ref[p] - R_synth_MIIC[p, index])\n",
    "\n",
    "plt.figure(figsize=(15, 15))\n",
    "plt.imshow(NORM)\n",
    "plt.colorbar()\n",
    "plt.xlabel(\"Number of patients\")\n",
    "plt.xticks(range(6), PATIENTS)\n",
    "plt.ylabel(\"Index\")\n",
    "plt.yticks(range(len(INDEX_MIIC)), INDEX_MIIC)\n",
    "plt.show()"
   ]
  },
  {
   "attachments": {},
   "cell_type": "markdown",
   "metadata": {},
   "source": [
    "### PrivBayes"
   ]
  },
  {
   "cell_type": "code",
   "execution_count": 35,
   "metadata": {},
   "outputs": [
    {
     "data": {
      "image/png": "[encoded data removed]",
      "text/plain": [
       "<Figure size 1080x1080 with 2 Axes>"
      ]
     },
     "metadata": {
      "needs_background": "light"
     },
     "output_type": "display_data"
    }
   ],
   "source": [
    "NORM = np.zeros((len(PRIV_BAYES_SEEDS), n_patients))\n",
    "\n",
    "for i, seed in enumerate(PRIV_BAYES_SEEDS):\n",
    "    for k, p in enumerate(PATIENTS):\n",
    "        if not (p == 100 and seed == 11):\n",
    "            NORM[i, k] = np.linalg.norm(R_ref[p] - R_synth_PRIVBayes[p, seed])\n",
    "        else:\n",
    "            NORM[i, k] = np.nan\n",
    "\n",
    "plt.figure(figsize=(15, 15))\n",
    "plt.imshow(NORM)\n",
    "plt.colorbar()\n",
    "plt.xlabel(\"Number of patients\")\n",
    "plt.xticks(range(6), PATIENTS)\n",
    "plt.ylabel(\"Seed\")\n",
    "plt.yticks(range(12), SEEDS_BAYNET)\n",
    "plt.show()"
   ]
  },
  {
   "attachments": {},
   "cell_type": "markdown",
   "metadata": {},
   "source": [
    "### Synthpop"
   ]
  },
  {
   "cell_type": "code",
   "execution_count": 37,
   "metadata": {},
   "outputs": [
    {
     "data": {
      "image/png": "[encoded data removed]",
      "text/plain": [
       "<Figure size 1080x1080 with 2 Axes>"
      ]
     },
     "metadata": {
      "needs_background": "light"
     },
     "output_type": "display_data"
    }
   ],
   "source": [
    "NORM = np.zeros((len(SYNTHPOP_ITERATIONS), n_patients))\n",
    "\n",
    "for i, index in enumerate(SYNTHPOP_ITERATIONS):\n",
    "    for k, p in enumerate(PATIENTS):\n",
    "        NORM[i, k] = np.linalg.norm(R_ref[p] - R_synth_Synthpop[p, index])\n",
    "\n",
    "plt.figure(figsize=(15, 15))\n",
    "plt.imshow(NORM)\n",
    "plt.colorbar()\n",
    "plt.xlabel(\"Number of patients\")\n",
    "plt.xticks(range(6), PATIENTS)\n",
    "plt.ylabel(\"Iterations\")\n",
    "plt.yticks(range(len(SYNTHPOP_ITERATIONS)), SYNTHPOP_ITERATIONS)\n",
    "plt.show()"
   ]
  }
 ],
 "metadata": {
  "kernelspec": {
   "display_name": "Python 3",
   "language": "python",
   "name": "python3"
  },
  "language_info": {
   "codemirror_mode": {
    "name": "ipython",
    "version": 3
   },
   "file_extension": ".py",
   "mimetype": "text/x-python",
   "name": "python",
   "nbconvert_exporter": "python",
   "pygments_lexer": "ipython3",
   "version": "3.10.6"
  },
  "orig_nbformat": 4,
  "vscode": {
   "interpreter": {
    "hash": "31f2aee4e71d21fbe5cf8b01ff0e069b9275f58929596ceb00d14d90e3e16cd6"
   }
  }
 },
 "nbformat": 4,
 "nbformat_minor": 2
}
